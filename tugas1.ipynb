{
 "cells": [
  {
   "cell_type": "code",
   "execution_count": 37,
   "metadata": {},
   "outputs": [
    {
     "name": "stdout",
     "output_type": "stream",
     "text": [
      "*** Product Price Check ***\n",
      "\n",
      "initial price: 20000.0\n",
      "initial tax: 4.020800.0\n"
     ]
    },
    {
     "data": {
      "text/plain": [
       "null"
      ]
     },
     "execution_count": 37,
     "metadata": {},
     "output_type": "execute_result"
    }
   ],
   "source": [
    "double price, tax; \n",
    "System.out.println(\"*** Product Price Check ***\"); \n",
    "price = 20000; // input price\n",
    "tax = 4; // input tax\n",
    "System.out.print(\"\\ninitial price: \"+price); \n",
    "System.out.print(\"\\ninitial tax: \"+tax);\n",
    "price = price * (1 + tax/100);\n",
    "\n",
    "System.out.println(price);"
   ]
  },
  {
   "cell_type": "markdown",
   "metadata": {},
   "source": [
    "\n",
    "2.A Self-test Questions\n",
    "\n",
    "Soal 1A.\n",
    "\n",
    "Tipe data Java apakah yang paling tepat untuk digunakan untuk item - item dari data berikut ini?\n",
    "\n",
    "    nama yang diberikan kepada mahasiswa\n",
    "    jumlah maksimum orang yang diizinkan naik bus;\n",
    "    berat barang yang dibeli di supermarket;\n",
    "    nilai yang diberikan kepada siswa (misalnya ‘A’, ‘B’ atau ‘C’).\n",
    "\n",
    "Jawab :\n",
    "string,integer,double,char"
   ]
  },
  {
   "cell_type": "markdown",
   "metadata": {},
   "source": [
    "jawaban 2A"
   ]
  },
  {
   "cell_type": "code",
   "execution_count": 12,
   "metadata": {},
   "outputs": [
    {
     "data": {
      "text/plain": [
       "null"
      ]
     },
     "execution_count": 12,
     "metadata": {},
     "output_type": "execute_result"
    }
   ],
   "source": [
    "double m = 75.5;\n",
    "\n",
    "int n = 75;\n",
    "\n"
   ]
  },
  {
   "cell_type": "markdown",
   "metadata": {},
   "source": [
    "jawaban 3A\n",
    "\n",
    "Manakah dari berikut ini yang akan menjadi nama yang betul untuk suatu variabel.\n",
    "\n",
    "ticket\n",
    "\n",
    "cinemaTicket\n",
    "\n",
    "cinema_ticket\n"
   ]
  },
  {
   "cell_type": "markdown",
   "metadata": {},
   "source": [
    "jawaban 4A"
   ]
  },
  {
   "cell_type": "code",
   "execution_count": 11,
   "metadata": {},
   "outputs": [
    {
     "name": "stdout",
     "output_type": "stream",
     "text": [
      "Anda Lahir Tahun 2010\n"
     ]
    },
    {
     "data": {
      "text/plain": [
       "null"
      ]
     },
     "execution_count": 11,
     "metadata": {},
     "output_type": "execute_result"
    }
   ],
   "source": [
    "final int YEAR; \n",
    "int age, bornIn; \n",
    "YEAR= 2020;\n",
    "age = 10; \n",
    "\n",
    "bornIn = YEAR - age; \n",
    "\n",
    "System.out.println(\"Anda Lahir Tahun \" + bornIn);"
   ]
  },
  {
   "cell_type": "markdown",
   "metadata": {},
   "source": [
    "JAWABAN 5A"
   ]
  },
  {
   "cell_type": "code",
   "execution_count": 15,
   "metadata": {},
   "outputs": [
    {
     "name": "stdout",
     "output_type": "stream",
     "text": [
      "Nilai z adalah:130\n"
     ]
    },
    {
     "data": {
      "text/plain": [
       "null"
      ]
     },
     "execution_count": 15,
     "metadata": {},
     "output_type": "execute_result"
    }
   ],
   "source": [
    "int v, x, y, z;\n",
    "v = 6;\n",
    "x = 5; \n",
    "y = x + 2 + v; \n",
    "x = 10; \n",
    "z = y * x;\n",
    "System.out.println(\"Nilai z adalah:\" + z);"
   ]
  },
  {
   "cell_type": "markdown",
   "metadata": {},
   "source": [
    "jawaban 6A"
   ]
  },
  {
   "cell_type": "code",
   "execution_count": 22,
   "metadata": {},
   "outputs": [
    {
     "name": "stdout",
     "output_type": "stream",
     "text": [
      "Nilai a adalah:12\n",
      "Nilai b adalah:1\n"
     ]
    },
    {
     "data": {
      "text/plain": [
       "null"
      ]
     },
     "execution_count": 22,
     "metadata": {},
     "output_type": "execute_result"
    }
   ],
   "source": [
    "int num1, num2,a,b; \n",
    "\n",
    "num1 = 10;\n",
    "\n",
    "num2 = 6; \n",
    "\n",
    "a = num1 + 2; \n",
    "b = num1 / num2;\n",
    "\n",
    "System.out.println(\"Nilai a adalah:\" +a);\n",
    "System.out.println(\"Nilai b adalah:\" +b);"
   ]
  },
  {
   "cell_type": "markdown",
   "metadata": {},
   "source": [
    "jawaban 7A"
   ]
  },
  {
   "cell_type": "code",
   "execution_count": 25,
   "metadata": {},
   "outputs": [
    {
     "name": "stdout",
     "output_type": "stream",
     "text": [
      "Panjangnya  10Lebarnya: 5Kelilingnya:  30\n",
      "Luasnya: 50\n"
     ]
    },
    {
     "data": {
      "text/plain": [
       "null"
      ]
     },
     "execution_count": 25,
     "metadata": {},
     "output_type": "execute_result"
    }
   ],
   "source": [
    "int panjang,lebar,keliling,luas; \n",
    "\n",
    "panjang = 10; \n",
    "lebar = 5;\n",
    "System.out.print(\"Panjangnya  \"+panjang); \n",
    "System.out.print(\"Lebarnya: \"+lebar); \n",
    " \n",
    "keliling=2*panjang+2*lebar;\n",
    "luas=panjang*lebar;\n",
    "\n",
    "System.out.println(\"Kelilingnya:  \"+keliling); \n",
    "System.out.println(\"Luasnya: \"+luas); "
   ]
  },
  {
   "cell_type": "markdown",
   "metadata": {},
   "source": [
    "jawaban 8A"
   ]
  },
  {
   "cell_type": "code",
   "execution_count": 18,
   "metadata": {},
   "outputs": [
    {
     "name": "stdout",
     "output_type": "stream",
     "text": [
      "value for x 2value for y 4x : 4\n",
      "y : 2\n"
     ]
    },
    {
     "data": {
      "text/plain": [
       "null"
      ]
     },
     "execution_count": 18,
     "metadata": {},
     "output_type": "execute_result"
    }
   ],
   "source": [
    "int x, y; \n",
    "\n",
    "x = 2; \n",
    "y = 4;\n",
    "System.out.print(\"value for x \"+x); \n",
    "System.out.print(\"value for y \"+y); \n",
    " \n",
    "x=x^y;\n",
    "y=x^y;\n",
    "x=x^y;\n",
    "\n",
    "System.out.println(\"x : \" + x); \n",
    "System.out.println(\"y : \" + y);"
   ]
  },
  {
   "cell_type": "markdown",
   "metadata": {},
   "source": [
    "jawaban 1B"
   ]
  },
  {
   "cell_type": "markdown",
   "metadata": {},
   "source": [
    "jawaban 2B"
   ]
  },
  {
   "cell_type": "code",
   "execution_count": null,
   "metadata": {},
   "outputs": [],
   "source": [
    "0"
   ]
  },
  {
   "cell_type": "markdown",
   "metadata": {},
   "source": [
    "jawaban 3B"
   ]
  },
  {
   "cell_type": "code",
   "execution_count": 26,
   "metadata": {},
   "outputs": [
    {
     "name": "stdout",
     "output_type": "stream",
     "text": [
      "Panjangnya  10Lebarnya: 5Kelilingnya:  30\n",
      "Luasnya: 50\n"
     ]
    },
    {
     "data": {
      "text/plain": [
       "null"
      ]
     },
     "execution_count": 26,
     "metadata": {},
     "output_type": "execute_result"
    }
   ],
   "source": [
    "int panjang,lebar,keliling,luas; \n",
    "\n",
    "panjang = 10; \n",
    "lebar = 5;\n",
    "System.out.print(\"Panjangnya  \"+panjang); \n",
    "System.out.print(\"Lebarnya: \"+lebar); \n",
    " \n",
    "keliling=2*panjang+2*lebar;\n",
    "luas=panjang*lebar;\n",
    "\n",
    "System.out.println(\"Kelilingnya:  \"+keliling); \n",
    "System.out.println(\"Luasnya: \"+luas); "
   ]
  },
  {
   "cell_type": "markdown",
   "metadata": {},
   "source": [
    "jawaban 4B"
   ]
  },
  {
   "cell_type": "code",
   "execution_count": 27,
   "metadata": {},
   "outputs": [
    {
     "name": "stdout",
     "output_type": "stream",
     "text": [
      "initial pounds: 5.6Kilos: 2.540117272\n"
     ]
    },
    {
     "data": {
      "text/plain": [
       "null"
      ]
     },
     "execution_count": 27,
     "metadata": {},
     "output_type": "execute_result"
    }
   ],
   "source": [
    "double pounds=5.6;\n",
    "double kilos;\n",
    "\n",
    "System.out.print(\"initial pounds: \"+pounds); \n",
    "\n",
    "kilos=pounds*0.45359237;\n",
    "\n",
    "System.out.println(\"Kilos: \" +kilos);"
   ]
  },
  {
   "cell_type": "markdown",
   "metadata": {},
   "source": [
    "jawaban 5B"
   ]
  },
  {
   "cell_type": "code",
   "execution_count": 10,
   "metadata": {},
   "outputs": [
    {
     "name": "stdout",
     "output_type": "stream",
     "text": [
      "initial berat: 65.0\n",
      "initial tinggi: 1.68\n",
      "Individual Body Mass Index: 23.030045351473927\n"
     ]
    },
    {
     "data": {
      "text/plain": [
       "null"
      ]
     },
     "execution_count": 10,
     "metadata": {},
     "output_type": "execute_result"
    }
   ],
   "source": [
    "double bmi; \n",
    "double berat=65;\n",
    "double tinggi=1.68;\n",
    "\n",
    "System.out.println(\"initial berat: \"+berat); \n",
    "System.out.println(\"initial tinggi: \"+tinggi); \n",
    "\n",
    "bmi=berat/(tinggi*tinggi);\n",
    "\n",
    "System.out.println(\"Individual Body Mass Index: \"+bmi);\n"
   ]
  },
  {
   "cell_type": "markdown",
   "metadata": {},
   "source": [
    "jawaban 6B"
   ]
  },
  {
   "cell_type": "code",
   "execution_count": 36,
   "metadata": {},
   "outputs": [
    {
     "name": "stdout",
     "output_type": "stream",
     "text": [
      "initial r: 7.0Keliling Lingkaran adalah: 43.96\n",
      "Luas Lingkaran adalah: 153.86\n"
     ]
    },
    {
     "data": {
      "text/plain": [
       "null"
      ]
     },
     "execution_count": 36,
     "metadata": {},
     "output_type": "execute_result"
    }
   ],
   "source": [
    "double r,luas,keliling; \n",
    "double phi= 3.14;\n",
    "\n",
    "r = 7; // input r\n",
    "System.out.print(\"initial r: \"+r); \n",
    "\n",
    "luas = phi*(r*r);\n",
    "keliling = 2*(phi*r);\n",
    "\n",
    "System.out.println(\"Keliling Lingkaran adalah: \"+keliling);\n",
    "System.out.println(\"Luas Lingkaran adalah: \"+luas);"
   ]
  }
 ],
 "metadata": {
  "kernelspec": {
   "display_name": "Java",
   "language": "java",
   "name": "java"
  },
  "language_info": {
   "codemirror_mode": "text/x-java",
   "file_extension": ".java",
   "mimetype": "",
   "name": "Java",
   "nbconverter_exporter": "",
   "version": "1.8.0_121"
  },
  "toc": {
   "base_numbering": 1,
   "nav_menu": {},
   "number_sections": false,
   "sideBar": false,
   "skip_h1_title": false,
   "title_cell": "Table of Contents",
   "title_sidebar": "Contents",
   "toc_cell": false,
   "toc_position": {},
   "toc_section_display": false,
   "toc_window_display": false
  }
 },
 "nbformat": 4,
 "nbformat_minor": 2
}
